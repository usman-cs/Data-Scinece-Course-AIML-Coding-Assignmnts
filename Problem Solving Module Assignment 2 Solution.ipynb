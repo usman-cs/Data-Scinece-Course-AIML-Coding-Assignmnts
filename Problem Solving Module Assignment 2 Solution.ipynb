{
 "cells": [
  {
   "cell_type": "code",
   "execution_count": 27,
   "metadata": {},
   "outputs": [],
   "source": [
    "def checkPAN(str):\n",
    "    # ABCDE1234F PAN Number\n",
    "    return len(str)==10 and str[0:5].isalpha() and str[0:5].isupper() and str[5:9].isdigit() and str[-1].isalpha and str[-1].isupper()\n",
    "def checkGST(str):\n",
    "    # 12ABCDE3456F7G8 GST Number\n",
    "    return len(str)==15 and str[0:2].isdigit() and str[2:7].isalpha() and str[2:7].isupper() and str[7:11].isdigit() and str[11].isalpha and str[11].isupper() and str[12].isdigit() and str[13].isalpha() and str[13].isupper() and str[14].isdigit()\n",
    "def checkDrivingLicence(str):\n",
    "    # AB1234561234567\n",
    "    return len(str)==15 and str[0:2].isalpha and str[0:2].isupper() and str[2:].isdigit()\n",
    "def checkAdharCard(str):\n",
    "    # 123412341234\n",
    "    return len(str)==12 and str.isdigit()"
   ]
  },
  {
   "cell_type": "code",
   "execution_count": 28,
   "metadata": {},
   "outputs": [
    {
     "name": "stdout",
     "output_type": "stream",
     "text": [
      "True\n",
      "True\n",
      "True\n",
      "True\n"
     ]
    }
   ],
   "source": [
    "print(checkPAN('ABCDE1234F'))\n",
    "print(checkGST('12ABCDE3456F7G8'))\n",
    "print(checkDrivingLicence('AB1234561234567'))\n",
    "print(checkAdharCard('123412341234'))"
   ]
  },
  {
   "cell_type": "code",
   "execution_count": null,
   "metadata": {},
   "outputs": [],
   "source": []
  }
 ],
 "metadata": {
  "interpreter": {
   "hash": "ed225720166559e7176d3793db16a2fd8d295f725007103b21ac3099d2a89ee8"
  },
  "kernelspec": {
   "display_name": "Python 3",
   "language": "python",
   "name": "python3"
  },
  "language_info": {
   "codemirror_mode": {
    "name": "ipython",
    "version": 3
   },
   "file_extension": ".py",
   "mimetype": "text/x-python",
   "name": "python",
   "nbconvert_exporter": "python",
   "pygments_lexer": "ipython3",
   "version": "3.8.8"
  }
 },
 "nbformat": 4,
 "nbformat_minor": 2
}
